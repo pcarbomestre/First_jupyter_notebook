{
 "cells": [
  {
   "cell_type": "code",
   "execution_count": 9,
   "id": "936d78e6-4fa4-41f1-bc61-2f9bb9f3128b",
   "metadata": {},
   "outputs": [
    {
     "name": "stdout",
     "output_type": "stream",
     "text": [
      "Help on module test_module:\n",
      "\n",
      "NAME\n",
      "    test_module - A python module for computing great circle distance\n",
      "\n",
      "FUNCTIONS\n",
      "    great_circle_distance(point1, point2)\n",
      "        Calculate great-circle distance between two points.\n",
      "        \n",
      "        PARAMETERS\n",
      "        ----------\n",
      "        point1 : tuple\n",
      "            A (lat, lon) pair of coordinates in degrees\n",
      "        point2 : tuple\n",
      "            A (lat, lon) pair of coordinates in degrees\n",
      "            \n",
      "        RETURNS\n",
      "        -------\n",
      "        distance : float\n",
      "\n",
      "DATA\n",
      "    R = 6371000.0\n",
      "\n",
      "FILE\n",
      "    /Users/polcarbo/Documents/Documents/2021/UCSB/Bren_School/Fall_quarter_2022/EDS_220_Remote_Sensing/First_jupyter_notebook/test_module.py\n",
      "\n",
      "\n"
     ]
    }
   ],
   "source": [
    "import test_module\n",
    "help(test_module)"
   ]
  },
  {
   "cell_type": "code",
   "execution_count": 10,
   "id": "c19a230e-ff01-4343-995c-36158bc724e4",
   "metadata": {},
   "outputs": [
    {
     "data": {
      "text/plain": [
       "1460007.189049398"
      ]
     },
     "execution_count": 10,
     "metadata": {},
     "output_type": "execute_result"
    }
   ],
   "source": [
    "test_module.great_circle_distance((60, 0), (50, 15))"
   ]
  },
  {
   "cell_type": "code",
   "execution_count": 12,
   "id": "6536be9c-739a-4c49-be90-8f365a3b4274",
   "metadata": {},
   "outputs": [
    {
     "name": "stdout",
     "output_type": "stream",
     "text": [
      "Collecting Xarray\n",
      "  Downloading xarray-2022.6.0-py3-none-any.whl (927 kB)\n",
      "\u001b[2K     \u001b[90m━━━━━━━━━━━━━━━━━━━━━━━━━━━━━━━━━━━━━━━\u001b[0m \u001b[32m927.2/927.2 kB\u001b[0m \u001b[31m1.5 MB/s\u001b[0m eta \u001b[36m0:00:00\u001b[0m00:01\u001b[0m00:01\u001b[0m\n",
      "\u001b[?25hRequirement already satisfied: packaging>=20.0 in /usr/local/Cellar/jupyterlab/3.4.5/libexec/lib/python3.10/site-packages (from Xarray) (21.3)\n",
      "Requirement already satisfied: pandas>=1.2 in /usr/local/Cellar/jupyterlab/3.4.5/libexec/lib/python3.10/site-packages (from Xarray) (1.4.4)\n",
      "Requirement already satisfied: numpy>=1.19 in /usr/local/Cellar/jupyterlab/3.4.5/libexec/lib/python3.10/site-packages (from Xarray) (1.23.3)\n",
      "Requirement already satisfied: pyparsing!=3.0.5,>=2.0.2 in /usr/local/Cellar/jupyterlab/3.4.5/libexec/lib/python3.10/site-packages (from packaging>=20.0->Xarray) (3.0.9)\n",
      "Requirement already satisfied: pytz>=2020.1 in /usr/local/Cellar/jupyterlab/3.4.5/libexec/lib/python3.10/site-packages (from pandas>=1.2->Xarray) (2022.2)\n",
      "Requirement already satisfied: python-dateutil>=2.8.1 in /usr/local/Cellar/jupyterlab/3.4.5/libexec/lib/python3.10/site-packages (from pandas>=1.2->Xarray) (2.8.2)\n",
      "Requirement already satisfied: six>=1.5 in /usr/local/Cellar/six/1.16.0_2/lib/python3.10/site-packages (from python-dateutil>=2.8.1->pandas>=1.2->Xarray) (1.16.0)\n",
      "Installing collected packages: Xarray\n",
      "Successfully installed Xarray-2022.6.0\n",
      "Note: you may need to restart the kernel to use updated packages.\n"
     ]
    }
   ],
   "source": [
    "pip install Xarray"
   ]
  }
 ],
 "metadata": {
  "kernelspec": {
   "display_name": "Python 3 (ipykernel)",
   "language": "python",
   "name": "python3"
  },
  "language_info": {
   "codemirror_mode": {
    "name": "ipython",
    "version": 3
   },
   "file_extension": ".py",
   "mimetype": "text/x-python",
   "name": "python",
   "nbconvert_exporter": "python",
   "pygments_lexer": "ipython3",
   "version": "3.10.6"
  }
 },
 "nbformat": 4,
 "nbformat_minor": 5
}
